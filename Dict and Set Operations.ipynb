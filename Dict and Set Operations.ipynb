{
 "cells": [
  {
   "cell_type": "markdown",
   "id": "b0903b3d-bffe-4d8d-930b-f41ada30c5c1",
   "metadata": {},
   "source": [
    "# Dict"
   ]
  },
  {
   "cell_type": "markdown",
   "id": "beeb998d-1e83-42a4-9b36-624a7a5d4e0d",
   "metadata": {},
   "source": [
    "## Accessing of Elements"
   ]
  },
  {
   "cell_type": "code",
   "execution_count": 24,
   "id": "400b8497-ffc2-4634-83e4-3f885280f43d",
   "metadata": {},
   "outputs": [
    {
     "name": "stdout",
     "output_type": "stream",
     "text": [
      "22\n"
     ]
    }
   ],
   "source": [
    "dict1 = {'Name':'Hanna', 'Age':22}\n",
    "print(dict1['Age'])"
   ]
  },
  {
   "cell_type": "markdown",
   "id": "162b2083-7192-4391-b6e5-787465b694f7",
   "metadata": {},
   "source": [
    "## Pop"
   ]
  },
  {
   "cell_type": "code",
   "execution_count": 25,
   "id": "ce309a2c-ef0e-49cf-b87c-bc5a4ba704b4",
   "metadata": {},
   "outputs": [
    {
     "name": "stdout",
     "output_type": "stream",
     "text": [
      "{1: 'Hanna'}\n"
     ]
    }
   ],
   "source": [
    "dict1 = {1:'Hanna', 2:'Sivaram'}\n",
    "dict1.pop(2)\n",
    "print(dict1)"
   ]
  },
  {
   "cell_type": "markdown",
   "id": "46c0c9d8-15f4-4c6c-8544-8972aeb77185",
   "metadata": {},
   "source": [
    "## Popitem"
   ]
  },
  {
   "cell_type": "code",
   "execution_count": 26,
   "id": "8e052b9b-9a98-417e-94e4-c182ce4de14c",
   "metadata": {},
   "outputs": [
    {
     "name": "stdout",
     "output_type": "stream",
     "text": [
      "{1: 'Hanna'}\n"
     ]
    }
   ],
   "source": [
    "dict1 = {1:'Hanna', 2:'Sivaram'}\n",
    "dict1.popitem()\n",
    "print(dict1)"
   ]
  },
  {
   "cell_type": "markdown",
   "id": "ac5017d6-3125-4fc6-8d24-ebcf21e6b801",
   "metadata": {},
   "source": [
    "## Copy"
   ]
  },
  {
   "cell_type": "code",
   "execution_count": 27,
   "id": "a7a176b0-4393-45d7-a843-c5bf24709d27",
   "metadata": {},
   "outputs": [
    {
     "name": "stdout",
     "output_type": "stream",
     "text": [
      "{1: 'Hanna', 2: 'Sivaram'}\n"
     ]
    }
   ],
   "source": [
    "dict1 = {1:'Hanna', 2:'Sivaram'}\n",
    "dict2 = dict1.copy()\n",
    "print(dict2)"
   ]
  },
  {
   "cell_type": "markdown",
   "id": "9533d33d-cb27-4d41-a112-57b5eb796f07",
   "metadata": {},
   "source": [
    "## Clear"
   ]
  },
  {
   "cell_type": "code",
   "execution_count": 28,
   "id": "13c6e88c-f1ba-406a-bb21-511d7eb8a3f6",
   "metadata": {},
   "outputs": [
    {
     "name": "stdout",
     "output_type": "stream",
     "text": [
      "{}\n"
     ]
    }
   ],
   "source": [
    "dict1 = {1:'Hanna', 2:'Sivaram'}\n",
    "dict1.clear()\n",
    "print(dict1)"
   ]
  },
  {
   "cell_type": "markdown",
   "id": "0ac876d3-6c4e-4ee3-add6-07282d084956",
   "metadata": {},
   "source": [
    "# Sets"
   ]
  },
  {
   "cell_type": "markdown",
   "id": "ef7b4b84-1f14-41b4-a6f9-567be7f0ee55",
   "metadata": {},
   "source": [
    "## Add "
   ]
  },
  {
   "cell_type": "code",
   "execution_count": 29,
   "id": "37bcc4d0-9804-4b4c-b1a2-c542b8486658",
   "metadata": {},
   "outputs": [
    {
     "name": "stdout",
     "output_type": "stream",
     "text": [
      "{1, 2, 3, 4, 5}\n"
     ]
    }
   ],
   "source": [
    "a = {1, 2, 3, 4}\n",
    "a.add(5)\n",
    "print(a)"
   ]
  },
  {
   "cell_type": "markdown",
   "id": "5973c7c2-5a14-4ea6-987e-0c6cd95cc6f5",
   "metadata": {},
   "source": [
    "## Remove and Discard"
   ]
  },
  {
   "cell_type": "code",
   "execution_count": 30,
   "id": "66eaf543-a2cb-4c24-8a17-2c1a0757e287",
   "metadata": {},
   "outputs": [
    {
     "name": "stdout",
     "output_type": "stream",
     "text": [
      "{1, 3, 4}\n"
     ]
    }
   ],
   "source": [
    "a = {1, 2, 3, 4}\n",
    "a.remove(2)\n",
    "print(a)"
   ]
  },
  {
   "cell_type": "code",
   "execution_count": 31,
   "id": "46791dd2-1236-45c8-9565-02519aadeb4f",
   "metadata": {},
   "outputs": [
    {
     "name": "stdout",
     "output_type": "stream",
     "text": [
      "{1, 2, 3, 4}\n"
     ]
    }
   ],
   "source": [
    "a = {1, 2, 3, 4}\n",
    "a.discard(5)\n",
    "print(a)\n",
    "# The difference between remove and discard is the discard will not throw an error when a value doesn't exist in the set. \n",
    "# Remove throws an error if the value doesn't exist."
   ]
  }
 ],
 "metadata": {
  "kernelspec": {
   "display_name": "Python 3 (ipykernel)",
   "language": "python",
   "name": "python3"
  },
  "language_info": {
   "codemirror_mode": {
    "name": "ipython",
    "version": 3
   },
   "file_extension": ".py",
   "mimetype": "text/x-python",
   "name": "python",
   "nbconvert_exporter": "python",
   "pygments_lexer": "ipython3",
   "version": "3.11.4"
  }
 },
 "nbformat": 4,
 "nbformat_minor": 5
}
