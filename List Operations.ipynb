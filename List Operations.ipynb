{
 "cells": [
  {
   "cell_type": "markdown",
   "id": "b682465b-32f0-4353-a239-e54f3928ff35",
   "metadata": {},
   "source": [
    "# List Operations"
   ]
  },
  {
   "cell_type": "markdown",
   "id": "fda11d31-0b99-451b-8f10-b76e2f0621e8",
   "metadata": {},
   "source": [
    "## Slicing"
   ]
  },
  {
   "cell_type": "code",
   "execution_count": 14,
   "id": "44b73a4e-76d3-48e7-992d-6ad40370bc08",
   "metadata": {},
   "outputs": [
    {
     "name": "stdout",
     "output_type": "stream",
     "text": [
      "[2, 3]\n"
     ]
    }
   ],
   "source": [
    "a = [1, 2, 3, 4, 5]\n",
    "b = a[1 : 3]\n",
    "print(b)\n",
    "# This will only print 2 and 3 because the starting point is 'n' (index) and the ending point will be 'n+1'"
   ]
  },
  {
   "cell_type": "code",
   "execution_count": 16,
   "id": "b6fc162f-f241-439b-b49c-8049b162e379",
   "metadata": {},
   "outputs": [
    {
     "name": "stdout",
     "output_type": "stream",
     "text": [
      "[2, 3, 4, 5]\n"
     ]
    }
   ],
   "source": [
    "a = [1, 2, 3, 4, 5]\n",
    "b = a[1 : 5]\n",
    "print(b)"
   ]
  },
  {
   "cell_type": "code",
   "execution_count": 17,
   "id": "b9be45c4-d76b-4424-bbb5-12a11d0be487",
   "metadata": {},
   "outputs": [
    {
     "name": "stdout",
     "output_type": "stream",
     "text": [
      "[2, 3, 4, 5]\n"
     ]
    }
   ],
   "source": [
    "a = [1, 2, 3, 4, 5]\n",
    "b = a[1 :]\n",
    "print(b)"
   ]
  },
  {
   "cell_type": "code",
   "execution_count": 18,
   "id": "7c3be943-bbfc-40b4-ae45-5456d0b70bcf",
   "metadata": {},
   "outputs": [
    {
     "name": "stdout",
     "output_type": "stream",
     "text": [
      "[1, 2, 3, 4, 5]\n"
     ]
    }
   ],
   "source": [
    "a = [1, 2, 3, 4, 5]\n",
    "b = a[: 5]\n",
    "print(b)"
   ]
  },
  {
   "cell_type": "markdown",
   "id": "33152710-50fa-4adc-92db-df9efc1117de",
   "metadata": {},
   "source": [
    "## Append"
   ]
  },
  {
   "cell_type": "code",
   "execution_count": 19,
   "id": "45ac742f-9da5-4876-a642-8d63bb7b47c2",
   "metadata": {},
   "outputs": [
    {
     "name": "stdout",
     "output_type": "stream",
     "text": [
      "[1, 2, 3, 4, 5]\n"
     ]
    }
   ],
   "source": [
    "a = [1, 2, 3, 4]\n",
    "a.append(5)\n",
    "print(a)"
   ]
  },
  {
   "cell_type": "code",
   "execution_count": 20,
   "id": "8341d1f8-7ee4-4b33-9543-fed9a8f28665",
   "metadata": {},
   "outputs": [
    {
     "name": "stdout",
     "output_type": "stream",
     "text": [
      "['Hanna', 'Sivaram', 'Adnan']\n"
     ]
    }
   ],
   "source": [
    "b = [\"Hanna\", \"Sivaram\"]\n",
    "b.append(\"Adnan\")\n",
    "print(b)"
   ]
  },
  {
   "cell_type": "markdown",
   "id": "ff7e03a1-9c20-4272-bc43-49f0d6602c11",
   "metadata": {},
   "source": [
    "## Insert"
   ]
  },
  {
   "cell_type": "code",
   "execution_count": 21,
   "id": "70d663ae-14d9-46a0-bbef-0b2ce52d201d",
   "metadata": {},
   "outputs": [
    {
     "name": "stdout",
     "output_type": "stream",
     "text": [
      "[1, 2, 6, 3, 4, 5]\n"
     ]
    }
   ],
   "source": [
    "a = [1, 2, 3, 4, 5]\n",
    "a.insert(2, 6)\n",
    "print(a)"
   ]
  },
  {
   "cell_type": "code",
   "execution_count": 24,
   "id": "7fd7a08c-21ae-4a57-a976-e7c2c1007089",
   "metadata": {},
   "outputs": [
    {
     "name": "stdout",
     "output_type": "stream",
     "text": [
      "['Asra', 'Hanna', 'Sivaram', 'Adnan']\n"
     ]
    }
   ],
   "source": [
    "b = [\"Hanna\", \"Sivaram\", \"Adnan\"]\n",
    "b.insert(0, \"Asra\")\n",
    "print(b)"
   ]
  },
  {
   "cell_type": "markdown",
   "id": "de42103d-c346-41bd-8c41-f70a326993ab",
   "metadata": {},
   "source": [
    "## Remove"
   ]
  },
  {
   "cell_type": "code",
   "execution_count": 25,
   "id": "5bed908d-c312-47b9-9a5c-778e740cb755",
   "metadata": {},
   "outputs": [
    {
     "name": "stdout",
     "output_type": "stream",
     "text": [
      "[1, 3, 4, 5]\n"
     ]
    }
   ],
   "source": [
    "a = [1, 2, 3, 4, 5]\n",
    "a.remove(2)\n",
    "print(a)"
   ]
  },
  {
   "cell_type": "code",
   "execution_count": 28,
   "id": "3207c829-3a93-4f68-965c-d6f5cb6dece3",
   "metadata": {},
   "outputs": [
    {
     "name": "stdout",
     "output_type": "stream",
     "text": [
      "[True]\n"
     ]
    }
   ],
   "source": [
    "a = [1, True]\n",
    "a.remove(1)\n",
    "print(a)\n",
    "# As of the value of True is '1' but it didn't removed because list will take only the keyword 'True' and not the value."
   ]
  },
  {
   "cell_type": "code",
   "execution_count": 29,
   "id": "a17feabb-7c8c-46d8-87c6-af62c0d883ee",
   "metadata": {},
   "outputs": [
    {
     "name": "stdout",
     "output_type": "stream",
     "text": [
      "[True]\n"
     ]
    }
   ],
   "source": [
    "a = [1, True]\n",
    "a.remove(True)\n",
    "print(a)\n",
    "# Here the value '1' is removed because the remove function takes the value of True and that is '1'."
   ]
  },
  {
   "cell_type": "code",
   "execution_count": 32,
   "id": "383e252e-8552-4b1c-a365-3a31022f0806",
   "metadata": {},
   "outputs": [
    {
     "name": "stdout",
     "output_type": "stream",
     "text": [
      "[1, 2, 3, 5]\n"
     ]
    }
   ],
   "source": [
    "a = [1, 2, 3, 4, 5]\n",
    "a.remove(a[3])\n",
    "print(a)"
   ]
  },
  {
   "cell_type": "markdown",
   "id": "5fbfd83e-0c02-4b96-ab9e-3897b0424deb",
   "metadata": {},
   "source": [
    "## Popping of Elements"
   ]
  },
  {
   "cell_type": "code",
   "execution_count": 33,
   "id": "15a63fb0-7583-416c-b4f8-a5d59c818e1d",
   "metadata": {},
   "outputs": [
    {
     "name": "stdout",
     "output_type": "stream",
     "text": [
      "[1, 2, 3, 4, 5]\n"
     ]
    }
   ],
   "source": [
    "a = [1, 2, 3, 4, 5, 6, 7]\n",
    "a.pop()\n",
    "a.pop()\n",
    "print(a)"
   ]
  },
  {
   "cell_type": "code",
   "execution_count": 34,
   "id": "bb26190f-ebc0-44ed-980b-8671065a041d",
   "metadata": {},
   "outputs": [
    {
     "name": "stdout",
     "output_type": "stream",
     "text": [
      "[1, 3, 5, 6, 7]\n"
     ]
    }
   ],
   "source": [
    "a = [1, 2, 3, 4, 5, 6, 7]\n",
    "a.pop(1)\n",
    "a.pop(2)\n",
    "print(a)"
   ]
  },
  {
   "cell_type": "markdown",
   "id": "4ecb5823-c3d8-4413-b034-6baa988a52c7",
   "metadata": {},
   "source": [
    "## Finding the Index"
   ]
  },
  {
   "cell_type": "code",
   "execution_count": 35,
   "id": "83f57efa-2ced-418b-85a1-b005ab3cc294",
   "metadata": {},
   "outputs": [
    {
     "name": "stdout",
     "output_type": "stream",
     "text": [
      "3\n"
     ]
    }
   ],
   "source": [
    "a = [1, 2, 3, 4, 5]\n",
    "print(a.index(4))"
   ]
  },
  {
   "cell_type": "code",
   "execution_count": 36,
   "id": "f7f68e07-d582-4902-8a39-42ee5c4a7d4b",
   "metadata": {},
   "outputs": [
    {
     "name": "stdout",
     "output_type": "stream",
     "text": [
      "1\n"
     ]
    }
   ],
   "source": [
    "a = [\"Hanna\", \"Sivaram\", \"Asra\"]\n",
    "print(a.index(\"Sivaram\"))"
   ]
  },
  {
   "cell_type": "markdown",
   "id": "30f37f78-cdcf-4905-8344-a3093e6bdadc",
   "metadata": {},
   "source": [
    "## Counting Elements"
   ]
  },
  {
   "cell_type": "code",
   "execution_count": 38,
   "id": "b01cd9db-1321-49b8-8d44-44a7048ba3f4",
   "metadata": {},
   "outputs": [
    {
     "name": "stdout",
     "output_type": "stream",
     "text": [
      "2\n",
      "1\n"
     ]
    }
   ],
   "source": [
    "a = [1, 2, 3, 4, 5, 5]\n",
    "print(a.count(5))\n",
    "print(a.count(1))"
   ]
  },
  {
   "cell_type": "code",
   "execution_count": 39,
   "id": "b99aac7d-89dc-4176-bfa3-eb331f05a922",
   "metadata": {},
   "outputs": [
    {
     "name": "stdout",
     "output_type": "stream",
     "text": [
      "1\n",
      "2\n"
     ]
    }
   ],
   "source": [
    "a = [\"Hanna\", \"Sivaram\", \"Asra\", \"Hanna\"]\n",
    "print(a.count(\"Sivaram\"))\n",
    "print(a.count(\"Hanna\"))"
   ]
  },
  {
   "cell_type": "markdown",
   "id": "e7276c62-a443-44db-a822-75ca3af88034",
   "metadata": {},
   "source": [
    "## Sorting"
   ]
  },
  {
   "cell_type": "code",
   "execution_count": 40,
   "id": "031d8770-5f62-43e9-abd9-e669537d2c2e",
   "metadata": {},
   "outputs": [
    {
     "name": "stdout",
     "output_type": "stream",
     "text": [
      "[1, 2, 2, 3, 4, 5]\n"
     ]
    }
   ],
   "source": [
    "a = [5, 2, 1, 2, 3, 4]\n",
    "a.sort()\n",
    "print(a)"
   ]
  },
  {
   "cell_type": "code",
   "execution_count": 45,
   "id": "8a534bed-dd21-4179-beea-d6b0a3dcc8a0",
   "metadata": {},
   "outputs": [
    {
     "name": "stdout",
     "output_type": "stream",
     "text": [
      "[5, 4, 3, 2, 2, 1]\n"
     ]
    }
   ],
   "source": [
    "a = [5, 2, 1, 2, 3, 4]\n",
    "a.sort(reverse = True)\n",
    "print(a)"
   ]
  },
  {
   "cell_type": "code",
   "execution_count": 46,
   "id": "465c513a-80d6-446d-8a2b-ed950f73a70e",
   "metadata": {},
   "outputs": [
    {
     "name": "stdout",
     "output_type": "stream",
     "text": [
      "['A', 'B', 'a', 'b']\n"
     ]
    }
   ],
   "source": [
    "a = [\"b\", \"B\", \"a\", \"A\"]\n",
    "a.sort()\n",
    "print(a)"
   ]
  },
  {
   "cell_type": "markdown",
   "id": "39bf59bb-0197-40da-bd06-0d6e08af23ed",
   "metadata": {},
   "source": [
    "## Copying of Lists"
   ]
  },
  {
   "cell_type": "code",
   "execution_count": 48,
   "id": "f5971751-c084-4ed3-a073-515f5b974344",
   "metadata": {},
   "outputs": [
    {
     "name": "stdout",
     "output_type": "stream",
     "text": [
      "[1, 2, 3]\n"
     ]
    }
   ],
   "source": [
    "a = [1, 2, 3, 4]\n",
    "b = a\n",
    "a.pop()\n",
    "print(b)"
   ]
  },
  {
   "cell_type": "code",
   "execution_count": 49,
   "id": "f007874a-380e-4f30-b6e9-b84ec7714c49",
   "metadata": {},
   "outputs": [
    {
     "name": "stdout",
     "output_type": "stream",
     "text": [
      "[1, 2, 3, 4]\n"
     ]
    }
   ],
   "source": [
    "a = [1, 2, 3, 4]\n",
    "b = a[:]\n",
    "a.pop()\n",
    "print(b)"
   ]
  },
  {
   "cell_type": "code",
   "execution_count": 50,
   "id": "a8f8dbbc-284d-4055-87d1-de2d7ac080f2",
   "metadata": {},
   "outputs": [
    {
     "name": "stdout",
     "output_type": "stream",
     "text": [
      "[1, 2, 3, 4]\n"
     ]
    }
   ],
   "source": [
    "a = [1, 2, 3, 4]\n",
    "b = a.copy()\n",
    "a.pop()\n",
    "print(b)"
   ]
  },
  {
   "cell_type": "markdown",
   "id": "5ef56706-ca43-47f2-8358-c372fe578ad0",
   "metadata": {},
   "source": [
    "## Clearing of Lists"
   ]
  },
  {
   "cell_type": "code",
   "execution_count": 51,
   "id": "e5d4fca7-a230-461e-95fd-f6fc26383481",
   "metadata": {},
   "outputs": [
    {
     "name": "stdout",
     "output_type": "stream",
     "text": [
      "[]\n"
     ]
    }
   ],
   "source": [
    "a = [1, 2, 3, 4, 5]\n",
    "a = []\n",
    "print(a)"
   ]
  },
  {
   "cell_type": "code",
   "execution_count": 52,
   "id": "adb36dfd-dc73-4f76-b229-9f1aacddd27a",
   "metadata": {},
   "outputs": [
    {
     "name": "stdout",
     "output_type": "stream",
     "text": [
      "[]\n"
     ]
    }
   ],
   "source": [
    "a = [1, 2, 3, 4, 5]\n",
    "a.clear()\n",
    "print(a)"
   ]
  }
 ],
 "metadata": {
  "kernelspec": {
   "display_name": "Python 3 (ipykernel)",
   "language": "python",
   "name": "python3"
  },
  "language_info": {
   "codemirror_mode": {
    "name": "ipython",
    "version": 3
   },
   "file_extension": ".py",
   "mimetype": "text/x-python",
   "name": "python",
   "nbconvert_exporter": "python",
   "pygments_lexer": "ipython3",
   "version": "3.11.4"
  }
 },
 "nbformat": 4,
 "nbformat_minor": 5
}
