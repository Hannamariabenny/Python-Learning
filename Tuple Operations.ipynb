{
 "cells": [
  {
   "cell_type": "markdown",
   "id": "cd029c9f-58b1-4d42-a56b-d366e8ea4e1d",
   "metadata": {},
   "source": [
    "# Tuple Operations"
   ]
  },
  {
   "cell_type": "markdown",
   "id": "35ecbf04-c9e0-4a53-a557-ade6512ec51d",
   "metadata": {},
   "source": [
    "## Slicing"
   ]
  },
  {
   "cell_type": "code",
   "execution_count": 19,
   "id": "40dc2024-0e87-4947-8620-6accb8ae9109",
   "metadata": {},
   "outputs": [
    {
     "name": "stdout",
     "output_type": "stream",
     "text": [
      "(1, 3, 5)\n"
     ]
    }
   ],
   "source": [
    "a = (1, 2, 3, 4, 5)\n",
    "b = a[0 : 5 : 2]\n",
    "print(b)\n",
    "# The third value of the slicing is the step. It will skip values as we increase the value. This will also works with lists."
   ]
  },
  {
   "cell_type": "markdown",
   "id": "a8190c62-69b3-4317-8857-78b9a209603a",
   "metadata": {},
   "source": [
    "## Negative Indexing"
   ]
  },
  {
   "cell_type": "code",
   "execution_count": 20,
   "id": "99ba2d5a-deca-45d8-b6c7-8e5de24b1b38",
   "metadata": {},
   "outputs": [
    {
     "name": "stdout",
     "output_type": "stream",
     "text": [
      "5\n"
     ]
    }
   ],
   "source": [
    "a = (1, 2, 3, 4, 5)\n",
    "print(a[-1])"
   ]
  },
  {
   "cell_type": "code",
   "execution_count": 21,
   "id": "eba84bb5-2233-4737-82fe-2131bc00957b",
   "metadata": {},
   "outputs": [
    {
     "name": "stdout",
     "output_type": "stream",
     "text": [
      "(1, 2, 3, 4)\n"
     ]
    }
   ],
   "source": [
    "a = (1, 2, 3, 4, 5)\n",
    "print(a[0 : -1])"
   ]
  },
  {
   "cell_type": "code",
   "execution_count": 22,
   "id": "8cd4632c-fbf1-4ee8-8889-9862af6ee9d5",
   "metadata": {},
   "outputs": [
    {
     "name": "stdout",
     "output_type": "stream",
     "text": [
      "(5, 4, 3, 2, 1)\n"
     ]
    }
   ],
   "source": [
    "a = (1, 2, 3, 4, 5)\n",
    "print(a[: : -1])"
   ]
  },
  {
   "cell_type": "markdown",
   "id": "df840fed-b770-4ca4-bb23-3a9b1beff89d",
   "metadata": {},
   "source": [
    "## Count"
   ]
  },
  {
   "cell_type": "code",
   "execution_count": 23,
   "id": "f80e51f2-ebc4-4ab7-89c7-706f464feef5",
   "metadata": {},
   "outputs": [
    {
     "name": "stdout",
     "output_type": "stream",
     "text": [
      "2\n"
     ]
    }
   ],
   "source": [
    "a = (1, 2, 3, 4, 4)\n",
    "print(a.count(4))"
   ]
  },
  {
   "cell_type": "markdown",
   "id": "479c8ed8-c4d0-470c-a02c-75fe43b98de7",
   "metadata": {},
   "source": [
    "## Index"
   ]
  },
  {
   "cell_type": "code",
   "execution_count": 24,
   "id": "a17ce5e5-85c8-4871-afd0-60223f1bf629",
   "metadata": {},
   "outputs": [
    {
     "name": "stdout",
     "output_type": "stream",
     "text": [
      "2\n"
     ]
    }
   ],
   "source": [
    "a = (1, 2, 3, 4)\n",
    "print(a.index(3))"
   ]
  },
  {
   "cell_type": "markdown",
   "id": "f8a2ef1f-7df1-44fc-b10b-d89dcbe432f2",
   "metadata": {},
   "source": [
    "## Copy"
   ]
  },
  {
   "cell_type": "code",
   "execution_count": 25,
   "id": "d6c51a19-c348-424c-9345-4ff9c8803e91",
   "metadata": {},
   "outputs": [
    {
     "name": "stdout",
     "output_type": "stream",
     "text": [
      "(1, 2, 3, 4, 5)\n"
     ]
    }
   ],
   "source": [
    "a = (1, 2, 3, 4, 5)\n",
    "b = a\n",
    "print(b)"
   ]
  }
 ],
 "metadata": {
  "kernelspec": {
   "display_name": "Python 3 (ipykernel)",
   "language": "python",
   "name": "python3"
  },
  "language_info": {
   "codemirror_mode": {
    "name": "ipython",
    "version": 3
   },
   "file_extension": ".py",
   "mimetype": "text/x-python",
   "name": "python",
   "nbconvert_exporter": "python",
   "pygments_lexer": "ipython3",
   "version": "3.11.4"
  }
 },
 "nbformat": 4,
 "nbformat_minor": 5
}
