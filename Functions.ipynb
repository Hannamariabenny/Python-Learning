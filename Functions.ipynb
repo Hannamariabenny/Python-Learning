{
 "cells": [
  {
   "cell_type": "markdown",
   "id": "a3e8e47d-b668-4aa1-bbe5-50ade370ece5",
   "metadata": {},
   "source": [
    "# Functions\n",
    "Function is a block of reusable block of code that performs a specific task. "
   ]
  },
  {
   "cell_type": "code",
   "execution_count": 2,
   "id": "70c08433-5d01-4e7f-b5b5-2df9a4671902",
   "metadata": {},
   "outputs": [
    {
     "name": "stdout",
     "output_type": "stream",
     "text": [
      "Hello World!\n",
      "Hello World!\n"
     ]
    }
   ],
   "source": [
    "def printName():\n",
    "    print(\"Hello World!\")\n",
    "\n",
    "printName()\n",
    "printName()"
   ]
  },
  {
   "cell_type": "code",
   "execution_count": 3,
   "id": "0c226696-a963-4bcb-979f-110075f510e2",
   "metadata": {},
   "outputs": [
    {
     "name": "stdout",
     "output_type": "stream",
     "text": [
      "Legal\n",
      "Not Legal\n"
     ]
    }
   ],
   "source": [
    "def legalOrNot(age):\n",
    "    if age >= 18:\n",
    "        print(\"Legal\")\n",
    "    else:\n",
    "        print(\"Not Legal\")\n",
    "\n",
    "legalOrNot(18)\n",
    "legalOrNot(15)"
   ]
  },
  {
   "cell_type": "code",
   "execution_count": 5,
   "id": "4a3ac78b-c5b0-4c30-b8fb-b2fbb7159e26",
   "metadata": {
    "scrolled": true
   },
   "outputs": [
    {
     "name": "stdout",
     "output_type": "stream",
     "text": [
      "Factorial of 5 is 120\n",
      "Factorial of 1 is 1\n",
      "Factorial of 0 is 1\n"
     ]
    }
   ],
   "source": [
    "def Factorial(n):\n",
    "    fact = 1\n",
    "    if n == 0 or n == 1:\n",
    "        print(f\"Factorial of {n} is 1\")\n",
    "    else:\n",
    "        for i in range(1, n+1):\n",
    "            fact *= i\n",
    "        print(f\"Factorial of {n} is {fact}\")\n",
    "\n",
    "Factorial(5)\n",
    "Factorial(1)\n",
    "Factorial(0)"
   ]
  },
  {
   "cell_type": "code",
   "execution_count": 4,
   "id": "b6816d7d-4da5-4a1b-ba68-58f9549f0a56",
   "metadata": {},
   "outputs": [
    {
     "name": "stdout",
     "output_type": "stream",
     "text": [
      "2\n",
      "4\n"
     ]
    }
   ],
   "source": [
    "def printList(a):\n",
    "    for i in a:\n",
    "        if i % 2 == 0:\n",
    "            print(i)\n",
    "\n",
    "printList([1, 2, 3, 4])"
   ]
  },
  {
   "cell_type": "code",
   "execution_count": 11,
   "id": "3965923d-cf8b-4f39-b889-a3782659d0cb",
   "metadata": {},
   "outputs": [
    {
     "name": "stdout",
     "output_type": "stream",
     "text": [
      " * \n",
      " *  * \n",
      " *  *  * \n",
      " *  *  *  * \n",
      " * \n",
      " *  * \n",
      " *  *  * \n",
      " *  *  *  * \n",
      " *  *  *  *  * \n",
      " * \n",
      " *  * \n",
      " *  *  * \n",
      " *  *  *  * \n",
      " *  *  *  *  * \n",
      " *  *  *  *  *  * \n"
     ]
    }
   ],
   "source": [
    "def printPyramid(n):\n",
    "    for i in range(1, n+1):\n",
    "        for j in range(i):\n",
    "            print(\" * \", end = \"\")\n",
    "        print()\n",
    "\n",
    "printPyramid(4)\n",
    "printPyramid(5)\n",
    "printPyramid(6)"
   ]
  },
  {
   "cell_type": "markdown",
   "id": "e5cec703-cf89-44bd-a6d9-445082cdb172",
   "metadata": {},
   "source": [
    "Initialize an append values 0 to 30 in a list. Then define three functions Red, Yellow, Green. Then iterate the list when the value is odd it should call the function Red. When the number is even it should call Yellow. Whenever the list takes the last element, it should call Green."
   ]
  },
  {
   "cell_type": "code",
   "execution_count": 18,
   "id": "bbe88ba4-c841-4b9d-b837-877cc843b571",
   "metadata": {},
   "outputs": [
    {
     "name": "stdout",
     "output_type": "stream",
     "text": [
      "[0, 1, 2, 3, 4, 5, 6, 7, 8, 9, 10, 11, 12, 13, 14, 15, 16, 17, 18, 19, 20, 21, 22, 23, 24, 25, 26, 27, 28, 29, 30]\n",
      "Yellow\n",
      "Red\n",
      "Yellow\n",
      "Red\n",
      "Yellow\n",
      "Red\n",
      "Yellow\n",
      "Red\n",
      "Yellow\n",
      "Red\n",
      "Yellow\n",
      "Red\n",
      "Yellow\n",
      "Red\n",
      "Yellow\n",
      "Red\n",
      "Yellow\n",
      "Red\n",
      "Yellow\n",
      "Red\n",
      "Yellow\n",
      "Red\n",
      "Yellow\n",
      "Red\n",
      "Yellow\n",
      "Red\n",
      "Yellow\n",
      "Red\n",
      "Yellow\n",
      "Red\n",
      "Green\n"
     ]
    }
   ],
   "source": [
    "def Red():\n",
    "    print(\"Red\")\n",
    "def Yellow():\n",
    "    print(\"Yellow\")\n",
    "def Green():\n",
    "    print(\"Green\")\n",
    "\n",
    "a = []\n",
    "for i in range(31):\n",
    "    a.append(i)\n",
    "print(a)\n",
    "\n",
    "for i in a:\n",
    "    if i == 30:\n",
    "        Green()\n",
    "    elif i % 2 != 0:\n",
    "        Red()\n",
    "    elif i % 2 == 0:\n",
    "        Yellow()"
   ]
  },
  {
   "cell_type": "code",
   "execution_count": 27,
   "id": "b0ce43ba-4679-4327-9cb5-437cc9457b3a",
   "metadata": {},
   "outputs": [
    {
     "name": "stdout",
     "output_type": "stream",
     "text": [
      "Sum of 5 and 2 = 7\n",
      "Difference of 5 and 2 = 3\n",
      "Product of 5 and 2 = 10\n",
      "Quotient of 5 and 2 = 2.5\n",
      "Invalid Operation.\n"
     ]
    }
   ],
   "source": [
    "def arithmeticOperations(operation, v1, v2):\n",
    "    op = str(operation).lower()\n",
    "    if op == '+' or op == \"add\" or op == \"addition\":\n",
    "        print(f\"Sum of {v1} and {v2} = {v1 + v2}\")\n",
    "    elif op == '-' or op == \"sub\" or op == \"subtraction\":\n",
    "        print(f\"Difference of {v1} and {v2} = {v1 - v2}\")\n",
    "    elif op == '*' or op == \"mul\" or op == \"multiplication\":\n",
    "        print(f\"Product of {v1} and {v2} = {v1 * v2}\")\n",
    "    elif op == '/' or op == \"div\" or op == \"division\":\n",
    "        print(f\"Quotient of {v1} and {v2} = {v1 / v2}\")\n",
    "    else:\n",
    "        print(\"Invalid Operation.\")\n",
    "\n",
    "arithmeticOperations('add', 5, 2)\n",
    "arithmeticOperations('-', 5, 2)\n",
    "arithmeticOperations('*', 5, 2)\n",
    "arithmeticOperations('/', 5, 2)\n",
    "arithmeticOperations('.', 5, 2)"
   ]
  }
 ],
 "metadata": {
  "kernelspec": {
   "display_name": "Python 3 (ipykernel)",
   "language": "python",
   "name": "python3"
  },
  "language_info": {
   "codemirror_mode": {
    "name": "ipython",
    "version": 3
   },
   "file_extension": ".py",
   "mimetype": "text/x-python",
   "name": "python",
   "nbconvert_exporter": "python",
   "pygments_lexer": "ipython3",
   "version": "3.11.4"
  }
 },
 "nbformat": 4,
 "nbformat_minor": 5
}
