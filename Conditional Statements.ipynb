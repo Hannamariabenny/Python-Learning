{
 "cells": [
  {
   "cell_type": "markdown",
   "id": "bd148d45-2a7c-41d2-866b-c0c9c1b285f7",
   "metadata": {},
   "source": [
    "# Conditional Statements"
   ]
  },
  {
   "cell_type": "markdown",
   "id": "6b079cbf-92e2-4edb-b1bd-3ff98a909706",
   "metadata": {},
   "source": [
    "## if\n",
    "If keyword is used to create a conditional statement that allows the program to execute a certain block of code."
   ]
  },
  {
   "cell_type": "code",
   "execution_count": 1,
   "id": "ad43d334-2f83-4f52-90ec-49d70a5abd31",
   "metadata": {},
   "outputs": [
    {
     "name": "stdout",
     "output_type": "stream",
     "text": [
      "You are 18\n"
     ]
    }
   ],
   "source": [
    "age = 18\n",
    "if age == 18:\n",
    "    print(\"You are 18\")"
   ]
  },
  {
   "cell_type": "code",
   "execution_count": 3,
   "id": "edf60535-d179-4794-95c3-7430856db02a",
   "metadata": {},
   "outputs": [],
   "source": [
    "age = 19\n",
    "if age == 18:\n",
    "    print(\"You are 18\")\n",
    "# This code will not give any output because the condition is false (age is not equal to 18)."
   ]
  },
  {
   "cell_type": "code",
   "execution_count": 5,
   "id": "5520cab7-d7a6-45a2-bd3a-24a945905041",
   "metadata": {},
   "outputs": [
    {
     "name": "stdout",
     "output_type": "stream",
     "text": [
      "Apples\n",
      "Grapes\n"
     ]
    }
   ],
   "source": [
    "a = [\"Apples\", \"Oranges\", \"Grapes\"]\n",
    "for i in a:\n",
    "    if len(i) == 6:\n",
    "        print(i)"
   ]
  },
  {
   "cell_type": "code",
   "execution_count": 17,
   "id": "04dae1ef-3278-4ad5-9707-9c8dbcf3a2b4",
   "metadata": {},
   "outputs": [
    {
     "name": "stdout",
     "output_type": "stream",
     "text": [
      "[1, 4, 9, 16, 25, 36, 49, 64, 81, 100, 121, 144, 169, 196, 225, 256, 289, 324, 361, 400]\n",
      "[4, 16, 36, 64, 100, 144, 196, 256, 324, 400]\n"
     ]
    }
   ],
   "source": [
    "a = []\n",
    "for i in range(1, 21):\n",
    "    a.append(i * i)\n",
    "print(a)\n",
    "for i in a:\n",
    "    if i % 2 != 0:\n",
    "        a.remove(i)\n",
    "print(a)"
   ]
  },
  {
   "cell_type": "code",
   "execution_count": 18,
   "id": "6a85d815-7a4a-415d-a4ae-65faf01ffac4",
   "metadata": {},
   "outputs": [
    {
     "name": "stdout",
     "output_type": "stream",
     "text": [
      "[1, 4, 9, 16, 25]\n"
     ]
    }
   ],
   "source": [
    "a = [1, 2, 3, 4, 5]\n",
    "for i in range(1, 6):\n",
    "    a[i-1] = i ** 2\n",
    "print(a)"
   ]
  },
  {
   "cell_type": "markdown",
   "id": "2d6265f3-840b-4d2c-9771-1c3eb85cbc93",
   "metadata": {},
   "source": [
    "## if - else\n",
    "If the condition is true, the block under 'if' executes. If the condition is false, the block under 'else' executes."
   ]
  },
  {
   "cell_type": "code",
   "execution_count": 2,
   "id": "7ddc4b8e-d785-4238-b2ac-9e12a44c7ff9",
   "metadata": {},
   "outputs": [
    {
     "name": "stdout",
     "output_type": "stream",
     "text": [
      "Even\n"
     ]
    }
   ],
   "source": [
    "num = 10\n",
    "if num % 2 != 0:\n",
    "    print(\"Odd\")\n",
    "else:\n",
    "    print(\"Even\")"
   ]
  },
  {
   "cell_type": "code",
   "execution_count": 6,
   "id": "c686519c-6523-4a03-83a3-8cd57e0f0e03",
   "metadata": {},
   "outputs": [
    {
     "name": "stdout",
     "output_type": "stream",
     "text": [
      "465\n",
      "Odd\n"
     ]
    }
   ],
   "source": [
    "l = []\n",
    "for i in range(1, 31):\n",
    "    l.append(i)\n",
    "sum = 0\n",
    "for i in l:\n",
    "    sum += i\n",
    "print(sum)\n",
    "if sum % 2 == 0:\n",
    "    print(\"Even\")\n",
    "else:\n",
    "    print(\"Odd\")"
   ]
  },
  {
   "cell_type": "code",
   "execution_count": 13,
   "id": "b2199ce8-23df-4df9-bb58-9e3a23118e35",
   "metadata": {},
   "outputs": [
    {
     "name": "stdout",
     "output_type": "stream",
     "text": [
      "[1, 4, 9, 16, 25, 36, 49, 64, 81, 100]\n",
      "1 is not divisible by 5\n",
      "4 is not divisible by 5\n",
      "9 is not divisible by 5\n",
      "16 is not divisible by 5\n",
      "25 is divisible by 5\n",
      "36 is not divisible by 5\n",
      "49 is not divisible by 5\n",
      "64 is not divisible by 5\n",
      "81 is not divisible by 5\n",
      "100 is divisible by 5\n"
     ]
    }
   ],
   "source": [
    "l = []\n",
    "for i in range(1, 11):\n",
    "    l.append(i)\n",
    "for i in range(0, len(l)):\n",
    "    l[i] = l[i] ** 2\n",
    "print(l)\n",
    "for i in l:\n",
    "    if i % 5 == 0:\n",
    "        print(f\"{i} is divisible by 5\")\n",
    "    else:\n",
    "        print(f\"{i} is not divisible by 5\")"
   ]
  },
  {
   "cell_type": "markdown",
   "id": "f69cae8e-b713-4447-8653-d7add2f3860e",
   "metadata": {},
   "source": [
    "## if elif else\n",
    "If the 'if' condition is true, it will execute the if block. If there is an elif block, it will check 'elif' condition if the 'if' condition is false. 'else' will execute when both the conditions are false. "
   ]
  },
  {
   "cell_type": "code",
   "execution_count": 1,
   "id": "976bd6c8-8170-4242-9279-cf02d82162e6",
   "metadata": {},
   "outputs": [
    {
     "name": "stdout",
     "output_type": "stream",
     "text": [
      "a is equal to 5\n"
     ]
    }
   ],
   "source": [
    "a = 5\n",
    "if a > 5:\n",
    "    print(\"a is greater than 5\")\n",
    "elif a == 5:\n",
    "    print(\"a is equal to 5\")\n",
    "else:\n",
    "    print(\"a is less than 5\")"
   ]
  },
  {
   "cell_type": "code",
   "execution_count": 4,
   "id": "0e2b358d-7488-4ba9-a1ed-c38a78fd31ba",
   "metadata": {},
   "outputs": [
    {
     "name": "stdout",
     "output_type": "stream",
     "text": [
      "B grade\n"
     ]
    }
   ],
   "source": [
    "mark = 80\n",
    "if mark >= 90:\n",
    "    print(\"A grade\")\n",
    "elif mark >= 80:\n",
    "    print(\"B grade\")\n",
    "elif mark >= 70:\n",
    "    print(\"C grade\")\n",
    "elif mark >= 60:\n",
    "    print(\"D grade\")\n",
    "else:\n",
    "    print(\"F grade\")"
   ]
  },
  {
   "cell_type": "code",
   "execution_count": 10,
   "id": "0869ee71-e1fb-4f6f-8917-738d0aa96849",
   "metadata": {},
   "outputs": [
    {
     "name": "stdout",
     "output_type": "stream",
     "text": [
      "You die\n"
     ]
    }
   ],
   "source": [
    "temp = 100\n",
    "if temp < 0:\n",
    "    print(\"Winter\")\n",
    "elif 25 > temp > 15:\n",
    "    print(\"Moderate\")\n",
    "elif 40 > temp > 25:\n",
    "    print(\"Summer\")\n",
    "else:\n",
    "    print(\"You die\")"
   ]
  }
 ],
 "metadata": {
  "kernelspec": {
   "display_name": "Python 3 (ipykernel)",
   "language": "python",
   "name": "python3"
  },
  "language_info": {
   "codemirror_mode": {
    "name": "ipython",
    "version": 3
   },
   "file_extension": ".py",
   "mimetype": "text/x-python",
   "name": "python",
   "nbconvert_exporter": "python",
   "pygments_lexer": "ipython3",
   "version": "3.11.4"
  }
 },
 "nbformat": 4,
 "nbformat_minor": 5
}
