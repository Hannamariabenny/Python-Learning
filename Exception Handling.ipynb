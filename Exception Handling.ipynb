{
 "cells": [
  {
   "cell_type": "markdown",
   "id": "0e42bc60-7699-41e9-b431-c252e061dc39",
   "metadata": {},
   "source": [
    "# Exception Handling\n",
    "Exception Handling in python is a mechanism that allows you to manage runtime errors."
   ]
  },
  {
   "cell_type": "code",
   "execution_count": 1,
   "id": "ea6eba01-19fb-467a-9528-bb48e0a2893a",
   "metadata": {},
   "outputs": [
    {
     "ename": "ZeroDivisionError",
     "evalue": "division by zero",
     "output_type": "error",
     "traceback": [
      "\u001b[1;31m---------------------------------------------------------------------------\u001b[0m",
      "\u001b[1;31mZeroDivisionError\u001b[0m                         Traceback (most recent call last)",
      "Cell \u001b[1;32mIn[1], line 2\u001b[0m\n\u001b[0;32m      1\u001b[0m n \u001b[38;5;241m=\u001b[39m \u001b[38;5;241m0\u001b[39m\n\u001b[1;32m----> 2\u001b[0m a \u001b[38;5;241m=\u001b[39m \u001b[38;5;241;43m10\u001b[39;49m\u001b[43m \u001b[49m\u001b[38;5;241;43m/\u001b[39;49m\u001b[43m \u001b[49m\u001b[43mn\u001b[49m\n\u001b[0;32m      3\u001b[0m \u001b[38;5;28mprint\u001b[39m(a)\n",
      "\u001b[1;31mZeroDivisionError\u001b[0m: division by zero"
     ]
    }
   ],
   "source": [
    "n = 0\n",
    "a = 10 / n\n",
    "print(a)"
   ]
  },
  {
   "cell_type": "code",
   "execution_count": 2,
   "id": "16db9b9a-566f-4337-b277-d59db1723c2e",
   "metadata": {},
   "outputs": [
    {
     "name": "stdout",
     "output_type": "stream",
     "text": [
      "Cannot able to divide by 0\n"
     ]
    }
   ],
   "source": [
    "n = 0\n",
    "try:\n",
    "    a = 10 / n\n",
    "except ZeroDivisionError:\n",
    "    a = \"Cannot able to divide by 0\"\n",
    "print(a)"
   ]
  },
  {
   "cell_type": "code",
   "execution_count": 3,
   "id": "7cca1041-544d-44a3-8095-4f2d1ae1d3b0",
   "metadata": {},
   "outputs": [
    {
     "name": "stdout",
     "output_type": "stream",
     "text": [
      "5.0\n"
     ]
    }
   ],
   "source": [
    "n = 2\n",
    "try:\n",
    "    a = 10 / n\n",
    "except ZeroDivisionError:\n",
    "    a = \"Cannot able to divide by 0\"\n",
    "print(a)"
   ]
  },
  {
   "cell_type": "code",
   "execution_count": 4,
   "id": "624e7d86-5233-4ce1-bf94-a7445a59e054",
   "metadata": {},
   "outputs": [
    {
     "name": "stdout",
     "output_type": "stream",
     "text": [
      "division by zero\n",
      "Cannot able to divide by 0\n"
     ]
    }
   ],
   "source": [
    "n = 0\n",
    "try:\n",
    "    a = 10 / n\n",
    "except ZeroDivisionError as e:\n",
    "    a = \"Cannot able to divide by 0\"\n",
    "    print(e)\n",
    "print(a)"
   ]
  },
  {
   "cell_type": "code",
   "execution_count": 6,
   "id": "50b9a79f-5e10-4bca-a6f1-ba3f3e59de09",
   "metadata": {},
   "outputs": [
    {
     "name": "stdout",
     "output_type": "stream",
     "text": [
      "No errors occured\n"
     ]
    }
   ],
   "source": [
    "n = 2\n",
    "try:\n",
    "    a = 10 / n\n",
    "except ZeroDivisionError:\n",
    "    a = \"Cannot able to divide by 0\"\n",
    "else:\n",
    "    a = \"No errors occured\"\n",
    "print(a)"
   ]
  },
  {
   "cell_type": "code",
   "execution_count": 7,
   "id": "ce19dcec-5edc-4ad2-a64b-c4cbbf398571",
   "metadata": {},
   "outputs": [
    {
     "name": "stdout",
     "output_type": "stream",
     "text": [
      "No errors occured\n",
      "5.0\n"
     ]
    }
   ],
   "source": [
    "n = 2\n",
    "try:\n",
    "    a = 10 / n\n",
    "except ZeroDivisionError as e:\n",
    "    a = \"Cannot able to divide by 0\"\n",
    "    print(f\"Error is: {e}\")\n",
    "else:\n",
    "    print(\"No errors occured\")\n",
    "print(a)"
   ]
  },
  {
   "cell_type": "code",
   "execution_count": 9,
   "id": "fc5851da-97b1-437b-8c27-608f1dd0ff97",
   "metadata": {},
   "outputs": [
    {
     "name": "stdout",
     "output_type": "stream",
     "text": [
      "Error is: division by zero\n",
      "Finished error validation\n",
      "Cannot able to divide by 0\n"
     ]
    }
   ],
   "source": [
    "n = 0\n",
    "try:\n",
    "    a = 10 / n\n",
    "except ZeroDivisionError as e:\n",
    "    a = \"Cannot able to divide by 0\"\n",
    "    print(f\"Error is: {e}\")\n",
    "else:\n",
    "    print(\"No errors occured\")\n",
    "finally:\n",
    "    print(\"Finished error validation\")\n",
    "print(a)"
   ]
  },
  {
   "cell_type": "code",
   "execution_count": 15,
   "id": "be3acf48-4440-422a-a3ab-0a4f7e91c0f4",
   "metadata": {},
   "outputs": [
    {
     "name": "stdout",
     "output_type": "stream",
     "text": [
      "Cannot able to perform division with an invalid type\n"
     ]
    }
   ],
   "source": [
    "a = 10\n",
    "n = 'a'\n",
    "try:\n",
    "    a = 10 / n\n",
    "except TypeError:\n",
    "    print(\"Cannot able to perform division with an invalid type\")\n",
    "    "
   ]
  },
  {
   "cell_type": "code",
   "execution_count": 14,
   "id": "c6de4d5e-7ec4-4777-8090-7185fc0fcf51",
   "metadata": {},
   "outputs": [
    {
     "name": "stdout",
     "output_type": "stream",
     "text": [
      "Invalid Value\n"
     ]
    }
   ],
   "source": [
    "a = \"a\"\n",
    "try:\n",
    "    b = float(a)\n",
    "except ValueError:\n",
    "    print(\"Invalid Value\")"
   ]
  }
 ],
 "metadata": {
  "kernelspec": {
   "display_name": "Python 3 (ipykernel)",
   "language": "python",
   "name": "python3"
  },
  "language_info": {
   "codemirror_mode": {
    "name": "ipython",
    "version": 3
   },
   "file_extension": ".py",
   "mimetype": "text/x-python",
   "name": "python",
   "nbconvert_exporter": "python",
   "pygments_lexer": "ipython3",
   "version": "3.11.4"
  }
 },
 "nbformat": 4,
 "nbformat_minor": 5
}
