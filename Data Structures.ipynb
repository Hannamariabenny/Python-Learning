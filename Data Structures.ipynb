{
 "cells": [
  {
   "cell_type": "markdown",
   "id": "8976ff30-cf7a-4ff6-9209-bd02b9e6d1a6",
   "metadata": {},
   "source": [
    "# Data Structures"
   ]
  },
  {
   "cell_type": "markdown",
   "id": "38f01fca-57f4-4369-9732-ae58b2520091",
   "metadata": {},
   "source": [
    "## Lists []"
   ]
  },
  {
   "cell_type": "code",
   "execution_count": 1,
   "id": "1e26ee04-dc69-4abf-8eb1-77fe49a68baa",
   "metadata": {},
   "outputs": [
    {
     "name": "stdout",
     "output_type": "stream",
     "text": [
      "['Hello', 1, 3.5, True]\n",
      "<class 'list'>\n"
     ]
    }
   ],
   "source": [
    "list1 = [\"Hello\", 1, 3.5, True]\n",
    "print(list1)\n",
    "print(type(list1))"
   ]
  },
  {
   "cell_type": "code",
   "execution_count": 2,
   "id": "12d49b04-a1ac-4ea9-9261-4d2b60630a7b",
   "metadata": {},
   "outputs": [
    {
     "name": "stdout",
     "output_type": "stream",
     "text": [
      "['Hanna', 1, 3.5, True]\n"
     ]
    }
   ],
   "source": [
    "list1[0] = \"Hanna\"\n",
    "print(list1)"
   ]
  },
  {
   "cell_type": "code",
   "execution_count": 3,
   "id": "964f6511-92a9-4040-baa3-088485e93fc4",
   "metadata": {},
   "outputs": [
    {
     "name": "stdout",
     "output_type": "stream",
     "text": [
      "['Hanna', 'Sivaram', 3.5, True]\n"
     ]
    }
   ],
   "source": [
    "list1[1] = \"Sivaram\"\n",
    "print(list1)"
   ]
  },
  {
   "cell_type": "code",
   "execution_count": 5,
   "id": "5e9923ed-70d3-41d2-a264-b5f4f21a1da6",
   "metadata": {},
   "outputs": [
    {
     "name": "stdout",
     "output_type": "stream",
     "text": [
      "['Hanna', 'Sivaram', 3.5, False]\n"
     ]
    }
   ],
   "source": [
    "list1[3] = False\n",
    "print(list1)"
   ]
  },
  {
   "cell_type": "markdown",
   "id": "a7ead68f-bd1c-4bba-a925-3510b02e1530",
   "metadata": {},
   "source": [
    "## Tuples ()"
   ]
  },
  {
   "cell_type": "code",
   "execution_count": 6,
   "id": "0eec2ec0-b162-41f1-9f6b-e7575e756a9a",
   "metadata": {},
   "outputs": [
    {
     "name": "stdout",
     "output_type": "stream",
     "text": [
      "('Hello', 1, 3.5, True)\n",
      "<class 'tuple'>\n"
     ]
    }
   ],
   "source": [
    "tuple1 = (\"Hello\", 1, 3.5, True)\n",
    "print(tuple1)\n",
    "print(type(tuple1))"
   ]
  },
  {
   "cell_type": "code",
   "execution_count": 7,
   "id": "f7e5be6f-567a-4300-9870-99a634d1af34",
   "metadata": {},
   "outputs": [
    {
     "ename": "TypeError",
     "evalue": "'tuple' object does not support item assignment",
     "output_type": "error",
     "traceback": [
      "\u001b[1;31m---------------------------------------------------------------------------\u001b[0m",
      "\u001b[1;31mTypeError\u001b[0m                                 Traceback (most recent call last)",
      "Cell \u001b[1;32mIn[7], line 1\u001b[0m\n\u001b[1;32m----> 1\u001b[0m \u001b[43mtuple1\u001b[49m\u001b[43m[\u001b[49m\u001b[38;5;241;43m0\u001b[39;49m\u001b[43m]\u001b[49m \u001b[38;5;241m=\u001b[39m \u001b[38;5;124m\"\u001b[39m\u001b[38;5;124mHanna\u001b[39m\u001b[38;5;124m\"\u001b[39m\n\u001b[0;32m      2\u001b[0m \u001b[38;5;28mprint\u001b[39m(tuple1)\n",
      "\u001b[1;31mTypeError\u001b[0m: 'tuple' object does not support item assignment"
     ]
    }
   ],
   "source": [
    "tuple1[0] = \"Hanna\"\n",
    "print(tuple1)\n",
    "# This will throw an error because tuple is not mutable (changeable)"
   ]
  },
  {
   "cell_type": "markdown",
   "id": "f4677e81-8c36-4e4c-8d67-5d1bc79276cd",
   "metadata": {},
   "source": [
    "## Sets {}"
   ]
  },
  {
   "cell_type": "code",
   "execution_count": 10,
   "id": "b8a959f2-dec0-41e1-849d-1954a16b50fb",
   "metadata": {},
   "outputs": [
    {
     "name": "stdout",
     "output_type": "stream",
     "text": [
      "{1, 3.5, 'Hello'}\n",
      "<class 'set'>\n"
     ]
    }
   ],
   "source": [
    "set1 = {\"Hello\", 1, 3.5, True}\n",
    "print(set1)\n",
    "print(type(set1))\n",
    "# The output doesn't print 'True' because the value of 'True' is '1', so set does not allow duplicate values and there is already a '1' present."
   ]
  },
  {
   "cell_type": "code",
   "execution_count": 11,
   "id": "fa5e7407-80c6-4905-8fed-cb7375c3beb4",
   "metadata": {},
   "outputs": [
    {
     "name": "stdout",
     "output_type": "stream",
     "text": [
      "{False, 1, 3.5, 'Hello'}\n"
     ]
    }
   ],
   "source": [
    "set1 = {\"Hello\", 1, 3.5, False}\n",
    "print(set1)\n",
    "# The output will print 'False' because the value of 'False' is '0', and the set does not contain any duplicate value. "
   ]
  },
  {
   "cell_type": "markdown",
   "id": "d7ba59d3-8259-4176-879c-5e1b63fd47f6",
   "metadata": {},
   "source": [
    "## Dictionaries {Key : Value}"
   ]
  },
  {
   "cell_type": "code",
   "execution_count": 12,
   "id": "617589f0-ba60-4ae3-94ad-cf52e3514c37",
   "metadata": {},
   "outputs": [
    {
     "name": "stdout",
     "output_type": "stream",
     "text": [
      "{'Name': 'Hanna', 'Age': 22}\n",
      "<class 'dict'>\n"
     ]
    }
   ],
   "source": [
    "dict1 = {\"Name\" : \"Hanna\", \"Age\" : 22}\n",
    "print(dict1)\n",
    "print(type(dict1))"
   ]
  },
  {
   "cell_type": "code",
   "execution_count": 17,
   "id": "17cb8f7f-11c9-45dd-9e47-e22917773f5d",
   "metadata": {},
   "outputs": [
    {
     "name": "stdout",
     "output_type": "stream",
     "text": [
      "Hanna\n",
      "22\n"
     ]
    }
   ],
   "source": [
    "print(dict1[\"Name\"])\n",
    "print(dict1[\"Age\"])\n",
    "# To call a value of dict we use the key appropriate to the value."
   ]
  },
  {
   "cell_type": "code",
   "execution_count": 18,
   "id": "f4a6c0b1-e9f9-4ece-8dd6-327156a994f6",
   "metadata": {},
   "outputs": [
    {
     "name": "stdout",
     "output_type": "stream",
     "text": [
      "{'Name': 'Sivaram', 'Age': 45}\n"
     ]
    }
   ],
   "source": [
    "dict1[\"Name\"] = \"Sivaram\"\n",
    "dict1[\"Age\"] = 45\n",
    "print(dict1)"
   ]
  },
  {
   "cell_type": "code",
   "execution_count": null,
   "id": "2bae6df5-5f53-420e-a17d-ef59ece188c9",
   "metadata": {},
   "outputs": [],
   "source": []
  }
 ],
 "metadata": {
  "kernelspec": {
   "display_name": "Python 3 (ipykernel)",
   "language": "python",
   "name": "python3"
  },
  "language_info": {
   "codemirror_mode": {
    "name": "ipython",
    "version": 3
   },
   "file_extension": ".py",
   "mimetype": "text/x-python",
   "name": "python",
   "nbconvert_exporter": "python",
   "pygments_lexer": "ipython3",
   "version": "3.11.4"
  }
 },
 "nbformat": 4,
 "nbformat_minor": 5
}
