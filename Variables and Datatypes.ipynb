{
 "cells": [
  {
   "cell_type": "markdown",
   "id": "ffa3c3af-6455-496e-afb8-ebefee81e609",
   "metadata": {},
   "source": [
    "# Variables and Datatypes\n"
   ]
  },
  {
   "cell_type": "markdown",
   "id": "30e90664-ef81-4ba6-8f70-a0c2147b9542",
   "metadata": {},
   "source": [
    "## Numbers (Integers,Float)"
   ]
  },
  {
   "cell_type": "code",
   "execution_count": 2,
   "id": "6fd4d9fd-adb9-45a0-a0b3-d420644f73f5",
   "metadata": {},
   "outputs": [
    {
     "name": "stdout",
     "output_type": "stream",
     "text": [
      "5\n",
      "<class 'int'>\n"
     ]
    }
   ],
   "source": [
    "a = 5\n",
    "print(a)\n",
    "print(type(a))"
   ]
  },
  {
   "cell_type": "code",
   "execution_count": 3,
   "id": "ec4885df-05df-4cb7-b3b9-16d99bb41dbc",
   "metadata": {},
   "outputs": [
    {
     "name": "stdout",
     "output_type": "stream",
     "text": [
      "10\n",
      "<class 'int'>\n"
     ]
    }
   ],
   "source": [
    "b = 10\n",
    "print(b)\n",
    "print(type(b))"
   ]
  },
  {
   "cell_type": "code",
   "execution_count": 4,
   "id": "2873ecf7-35b1-4ce2-8666-fafa2208ad9b",
   "metadata": {},
   "outputs": [
    {
     "name": "stdout",
     "output_type": "stream",
     "text": [
      "5.5\n",
      "<class 'float'>\n"
     ]
    }
   ],
   "source": [
    "a = 5.5\n",
    "print(a)\n",
    "print(type(a))"
   ]
  },
  {
   "cell_type": "code",
   "execution_count": 5,
   "id": "a99f8975-2bd7-4514-aa0b-1df641d7f4ba",
   "metadata": {},
   "outputs": [
    {
     "name": "stdout",
     "output_type": "stream",
     "text": [
      "10.5\n",
      "<class 'float'>\n"
     ]
    }
   ],
   "source": [
    "b = 10.5\n",
    "print(b)\n",
    "print(type(b))"
   ]
  },
  {
   "cell_type": "markdown",
   "id": "8a1e0fdd-1209-406a-9fa6-3a23e81398d6",
   "metadata": {},
   "source": [
    "## Text (String)"
   ]
  },
  {
   "cell_type": "code",
   "execution_count": 6,
   "id": "f70ed271-7813-400b-bf8a-80681b1168f7",
   "metadata": {},
   "outputs": [
    {
     "name": "stdout",
     "output_type": "stream",
     "text": [
      "Hanna\n",
      "<class 'str'>\n"
     ]
    }
   ],
   "source": [
    "a = \"Hanna\"\n",
    "print(a)\n",
    "print(type(a))"
   ]
  },
  {
   "cell_type": "code",
   "execution_count": 8,
   "id": "1dc962ec-4059-42ab-9cc3-b1c7df2eaca4",
   "metadata": {},
   "outputs": [
    {
     "name": "stdout",
     "output_type": "stream",
     "text": [
      "Sivaram\n",
      "<class 'str'>\n"
     ]
    }
   ],
   "source": [
    "b = \"Sivaram\"\n",
    "print(b)\n",
    "print(type(b))"
   ]
  },
  {
   "cell_type": "markdown",
   "id": "b68ca381-d9ac-4aa4-91ec-9f11cf1e6a8a",
   "metadata": {},
   "source": [
    "## Boolean (Type of State)"
   ]
  },
  {
   "cell_type": "code",
   "execution_count": 10,
   "id": "40e94940-e7a9-40ef-a85b-c0144c6fde43",
   "metadata": {},
   "outputs": [
    {
     "name": "stdout",
     "output_type": "stream",
     "text": [
      "True\n",
      "<class 'bool'>\n"
     ]
    }
   ],
   "source": [
    "fan = True\n",
    "print(fan)\n",
    "print(type(fan))"
   ]
  },
  {
   "cell_type": "code",
   "execution_count": 11,
   "id": "9aaf8fb1-13e0-4470-b710-43bd691f08b3",
   "metadata": {},
   "outputs": [
    {
     "name": "stdout",
     "output_type": "stream",
     "text": [
      "False\n",
      "<class 'bool'>\n"
     ]
    }
   ],
   "source": [
    "fan = False\n",
    "print(fan)\n",
    "print(type(fan))"
   ]
  }
 ],
 "metadata": {
  "kernelspec": {
   "display_name": "Python 3 (ipykernel)",
   "language": "python",
   "name": "python3"
  },
  "language_info": {
   "codemirror_mode": {
    "name": "ipython",
    "version": 3
   },
   "file_extension": ".py",
   "mimetype": "text/x-python",
   "name": "python",
   "nbconvert_exporter": "python",
   "pygments_lexer": "ipython3",
   "version": "3.11.4"
  }
 },
 "nbformat": 4,
 "nbformat_minor": 5
}
