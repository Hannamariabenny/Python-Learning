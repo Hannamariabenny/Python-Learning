{
 "cells": [
  {
   "cell_type": "markdown",
   "id": "b26116aa-9835-4c0e-87ef-2d340a5ddd99",
   "metadata": {},
   "source": [
    "# Loops\n",
    "In python, loops are used to execute a block of code repeatedly. "
   ]
  },
  {
   "cell_type": "markdown",
   "id": "f25d292c-17a8-4712-9667-9adb43aaab06",
   "metadata": {},
   "source": [
    "## While Loops\n",
    "A while loop continues to execute as long as a given condition is true."
   ]
  },
  {
   "cell_type": "code",
   "execution_count": 1,
   "id": "c6517d9c-e958-4f84-9edd-8b197df15fd8",
   "metadata": {},
   "outputs": [
    {
     "name": "stdout",
     "output_type": "stream",
     "text": [
      "1\n",
      "2\n",
      "3\n",
      "4\n",
      "5\n",
      "6\n",
      "7\n",
      "8\n",
      "9\n",
      "10\n"
     ]
    }
   ],
   "source": [
    "i = 0\n",
    "while i < 10:\n",
    "    i += 1\n",
    "    print(i)"
   ]
  },
  {
   "cell_type": "code",
   "execution_count": 3,
   "id": "2de63649-1ab2-4aeb-9005-4e4ee3d91c44",
   "metadata": {},
   "outputs": [
    {
     "name": "stdout",
     "output_type": "stream",
     "text": [
      "Apple\n",
      "Orange\n",
      "Grape\n"
     ]
    }
   ],
   "source": [
    "a = [\"Apple\", \"Orange\", \"Grape\"]\n",
    "i = 0\n",
    "while i < len(a):\n",
    "    print(a[i])\n",
    "    i += 1"
   ]
  },
  {
   "cell_type": "code",
   "execution_count": 4,
   "id": "cb9d0d36-a413-46fa-b7b6-b283067f311d",
   "metadata": {},
   "outputs": [
    {
     "name": "stdout",
     "output_type": "stream",
     "text": [
      "100\n",
      "200\n"
     ]
    }
   ],
   "source": [
    "i = 100\n",
    "while i < 300:\n",
    "    print(i)\n",
    "    i += i"
   ]
  },
  {
   "cell_type": "markdown",
   "id": "e8edd0fb-e8a8-4090-ac33-b074cda8f1f4",
   "metadata": {},
   "source": [
    "## For Loops\n",
    "A for loop iterates over a sequence (list, tuple or string) or any other iterable objects."
   ]
  },
  {
   "cell_type": "code",
   "execution_count": 6,
   "id": "98a3eb57-a714-4852-a4b2-17c9868ee726",
   "metadata": {},
   "outputs": [
    {
     "name": "stdout",
     "output_type": "stream",
     "text": [
      "Apples\n",
      "Oranges\n",
      "Grapes\n"
     ]
    }
   ],
   "source": [
    "a = [\"Apples\", \"Oranges\", \"Grapes\"]\n",
    "for i in a:\n",
    "    print(i)"
   ]
  },
  {
   "cell_type": "code",
   "execution_count": 7,
   "id": "5ecbc401-131c-40df-af48-7e0b6b594f30",
   "metadata": {},
   "outputs": [
    {
     "name": "stdout",
     "output_type": "stream",
     "text": [
      "H\n",
      "a\n",
      "n\n",
      "n\n",
      "a\n"
     ]
    }
   ],
   "source": [
    "a = \"Hanna\"\n",
    "for i in a:\n",
    "    print(i)"
   ]
  },
  {
   "cell_type": "code",
   "execution_count": 10,
   "id": "e1e3522e-ea13-4a5c-9c70-f3c033bab402",
   "metadata": {},
   "outputs": [
    {
     "name": "stdout",
     "output_type": "stream",
     "text": [
      "1\n",
      "2\n",
      "3\n",
      "4\n",
      "5\n",
      "6\n",
      "7\n",
      "8\n",
      "9\n",
      "10\n",
      "11\n",
      "12\n",
      "13\n",
      "14\n",
      "15\n",
      "16\n",
      "17\n",
      "18\n",
      "19\n",
      "20\n",
      "21\n",
      "22\n",
      "23\n",
      "24\n",
      "25\n",
      "26\n",
      "27\n",
      "28\n",
      "29\n",
      "30\n",
      "31\n",
      "32\n",
      "33\n",
      "34\n",
      "35\n",
      "36\n",
      "37\n",
      "38\n",
      "39\n",
      "40\n",
      "41\n",
      "42\n",
      "43\n",
      "44\n",
      "45\n",
      "46\n",
      "47\n",
      "48\n",
      "49\n",
      "50\n",
      "51\n",
      "52\n",
      "53\n",
      "54\n",
      "55\n",
      "56\n",
      "57\n",
      "58\n",
      "59\n",
      "60\n",
      "61\n",
      "62\n",
      "63\n",
      "64\n",
      "65\n",
      "66\n",
      "67\n",
      "68\n",
      "69\n",
      "70\n",
      "71\n",
      "72\n",
      "73\n",
      "74\n",
      "75\n",
      "76\n",
      "77\n",
      "78\n",
      "79\n",
      "80\n",
      "81\n",
      "82\n",
      "83\n",
      "84\n",
      "85\n",
      "86\n",
      "87\n",
      "88\n",
      "89\n",
      "90\n",
      "91\n",
      "92\n",
      "93\n",
      "94\n",
      "95\n",
      "96\n",
      "97\n",
      "98\n",
      "99\n",
      "100\n"
     ]
    }
   ],
   "source": [
    "for i in range(1, 101):\n",
    "    print(i)"
   ]
  },
  {
   "cell_type": "code",
   "execution_count": 9,
   "id": "f22c494e-1917-4a02-a9c4-139093682ddf",
   "metadata": {},
   "outputs": [
    {
     "name": "stdout",
     "output_type": "stream",
     "text": [
      "Hello\n",
      "Hi\n",
      "Hey\n"
     ]
    }
   ],
   "source": [
    "a = [\"Hello\", \"Hi\", \"Hey\"]\n",
    "for i in range(0, len(a)):\n",
    "    print(a[i])"
   ]
  }
 ],
 "metadata": {
  "kernelspec": {
   "display_name": "Python 3 (ipykernel)",
   "language": "python",
   "name": "python3"
  },
  "language_info": {
   "codemirror_mode": {
    "name": "ipython",
    "version": 3
   },
   "file_extension": ".py",
   "mimetype": "text/x-python",
   "name": "python",
   "nbconvert_exporter": "python",
   "pygments_lexer": "ipython3",
   "version": "3.11.4"
  }
 },
 "nbformat": 4,
 "nbformat_minor": 5
}
