{
 "cells": [
  {
   "cell_type": "markdown",
   "id": "5c1bf532-ef26-426f-bb49-59433d7f1b54",
   "metadata": {},
   "source": [
    "Q1. Swap the values of two variables without using a third variable "
   ]
  },
  {
   "cell_type": "code",
   "execution_count": 1,
   "id": "9c0503ed-3227-4cff-87f3-d01143085614",
   "metadata": {},
   "outputs": [
    {
     "name": "stdout",
     "output_type": "stream",
     "text": [
      "20 10\n"
     ]
    }
   ],
   "source": [
    "a = 10\n",
    "b = 20\n",
    "a = a + b\n",
    "b = a - b\n",
    "a = a - b\n",
    "print(a, b)"
   ]
  },
  {
   "cell_type": "markdown",
   "id": "b5af0d83-7a74-4c6a-b253-7e6eac6d031f",
   "metadata": {},
   "source": [
    "Q2. Initialize an array with values 2, 3, 5, 1 and sort in ascending order."
   ]
  },
  {
   "cell_type": "code",
   "execution_count": 8,
   "id": "d46e3829-4db6-4021-abc4-5b5f6219a347",
   "metadata": {},
   "outputs": [
    {
     "name": "stdout",
     "output_type": "stream",
     "text": [
      "[1, 2, 3, 5]\n"
     ]
    }
   ],
   "source": [
    "l = [2, 3, 5, 1]\n",
    "for i in range(len(l)-1):\n",
    "    for j in range(len(l)-1):\n",
    "        if l[j] > l[j+1]:\n",
    "            temp = l[j]\n",
    "            l[j] = l[j+1]\n",
    "            l[j+1] = temp\n",
    "print(l)"
   ]
  },
  {
   "cell_type": "markdown",
   "id": "2980bf54-779c-4b81-9c2e-fc744caa2b04",
   "metadata": {},
   "source": [
    "Q3. Initialize an array with values 2, 3, 5, 1 and sort in descending order."
   ]
  },
  {
   "cell_type": "code",
   "execution_count": 14,
   "id": "b49c9d94-8821-4159-b101-4873c096d0e9",
   "metadata": {},
   "outputs": [
    {
     "name": "stdout",
     "output_type": "stream",
     "text": [
      "[5, 3, 2, 1]\n"
     ]
    }
   ],
   "source": [
    "l = [2, 3, 5, 1]\n",
    "for i in range(len(l)-1):\n",
    "    for j in range(len(l)-1):\n",
    "        if l[j] < l[j+1]:\n",
    "            temp = l[j]\n",
    "            l[j] = l[j+1]\n",
    "            l[j+1] = temp\n",
    "print(l)"
   ]
  },
  {
   "cell_type": "markdown",
   "id": "379f40b5-591c-45b4-bc18-d02ce4753f7d",
   "metadata": {},
   "source": [
    "Q4. Write a program to find pallindrome of a number"
   ]
  },
  {
   "cell_type": "code",
   "execution_count": 36,
   "id": "ec14e9e7-27ed-4aaa-9306-71aeb076f165",
   "metadata": {},
   "outputs": [
    {
     "name": "stdout",
     "output_type": "stream",
     "text": [
      "Pallindrome\n"
     ]
    }
   ],
   "source": [
    "n = 121\n",
    "temp = n\n",
    "s = 0\n",
    "while n != 0:\n",
    "    rem = n % 10\n",
    "    s = s * 10 + rem\n",
    "    n = n // 10\n",
    "if temp == s:\n",
    "    print(\"Pallindrome\")\n",
    "else:\n",
    "    print(\"Not Pallindrome\")"
   ]
  },
  {
   "cell_type": "markdown",
   "id": "eef6462e-127d-432c-96a2-b600a070ddd0",
   "metadata": {},
   "source": [
    "Q5. Write a program to check if a string is pallindrome or not."
   ]
  },
  {
   "cell_type": "code",
   "execution_count": 1,
   "id": "48b1077e-ac87-41e4-8238-e34eaa82f909",
   "metadata": {},
   "outputs": [
    {
     "name": "stdout",
     "output_type": "stream",
     "text": [
      "Not Pallindrome\n"
     ]
    }
   ],
   "source": [
    "a = \"HELLO\"\n",
    "left = 0\n",
    "right = len(a) - 1\n",
    "while left < right:\n",
    "    if a[left] != a[right]:\n",
    "        print(\"Not Pallindrome\")\n",
    "        break\n",
    "    left += 1\n",
    "    right -=1\n",
    "    if left >= right:\n",
    "        print(\"Pallindrome\")"
   ]
  },
  {
   "cell_type": "markdown",
   "id": "0f63ab29-921d-484a-967c-2931e18a1b66",
   "metadata": {},
   "source": [
    "Q6. Find the factorial of number n"
   ]
  },
  {
   "cell_type": "code",
   "execution_count": 5,
   "id": "194dcc4d-3eb5-44aa-9920-91db4471b0af",
   "metadata": {},
   "outputs": [
    {
     "name": "stdout",
     "output_type": "stream",
     "text": [
      "Factorial of 5 is 120\n"
     ]
    }
   ],
   "source": [
    "n = 5\n",
    "fact = 1\n",
    "if n == 0 and n == 1:\n",
    "    print(f\"Factorial of {n} is 1\")\n",
    "else:\n",
    "    for i in range(1, n+1):\n",
    "        fact *= i\n",
    "    print(f\"Factorial of {n} is {fact}\")"
   ]
  },
  {
   "cell_type": "markdown",
   "id": "d3181aa8-6a14-424d-b205-4c84d8eb8327",
   "metadata": {},
   "source": [
    "Q7. Write a python program to find the largest element of an array."
   ]
  },
  {
   "cell_type": "code",
   "execution_count": 9,
   "id": "dfde9fcc-cd76-4872-bbb8-bb8a8c35973a",
   "metadata": {},
   "outputs": [
    {
     "name": "stdout",
     "output_type": "stream",
     "text": [
      "Largest element is 57\n"
     ]
    }
   ],
   "source": [
    "a = [57, 32, 39, 21, 7, 53]\n",
    "large = a[0]\n",
    "for i in range(len(a)):\n",
    "    if a[i] > large:\n",
    "        large = a[i]\n",
    "print(f\"Largest element is {large}\")"
   ]
  },
  {
   "cell_type": "markdown",
   "id": "bbc2edb5-35c4-4088-bbca-cc57db15992f",
   "metadata": {},
   "source": [
    "Q8. Find the common elements between two lists."
   ]
  },
  {
   "cell_type": "code",
   "execution_count": 11,
   "id": "9a19497c-a508-42dc-8c66-2927e216f0a2",
   "metadata": {},
   "outputs": [
    {
     "name": "stdout",
     "output_type": "stream",
     "text": [
      "3\n",
      "4\n",
      "5\n"
     ]
    }
   ],
   "source": [
    "a = [1, 2, 3, 4, 5]\n",
    "b = [4, 5, 3, 7, 8]\n",
    "for i in a:\n",
    "    for j in b:\n",
    "        if i == j:\n",
    "            print(i)"
   ]
  },
  {
   "cell_type": "markdown",
   "id": "f3290122-d3a8-48a9-803f-5ccb2d3b9cf0",
   "metadata": {},
   "source": [
    "Q9. Write a program to remove duplicates from a list"
   ]
  },
  {
   "cell_type": "code",
   "execution_count": 23,
   "id": "69e9acb8-35f1-4fa9-bf7d-9372f511e5c2",
   "metadata": {},
   "outputs": [
    {
     "name": "stdout",
     "output_type": "stream",
     "text": [
      "[1, 2, 3, 4, 5]\n"
     ]
    }
   ],
   "source": [
    "a = [1, 1, 2, 3, 4, 5, 5]\n",
    "b = []\n",
    "for i in a:\n",
    "    flag = True\n",
    "    for j in b:\n",
    "        if i == j:\n",
    "            flag = False\n",
    "            break\n",
    "    if flag == True:\n",
    "        b.append(i)\n",
    "print(b)"
   ]
  },
  {
   "cell_type": "markdown",
   "id": "5f9ad8cf-7cf9-4890-ba00-8be63d48c505",
   "metadata": {},
   "source": [
    "Q10. Print a right-angled triangle"
   ]
  },
  {
   "cell_type": "code",
   "execution_count": 26,
   "id": "6cd77ac0-3b72-45d7-893f-98e28dc084fc",
   "metadata": {},
   "outputs": [
    {
     "name": "stdout",
     "output_type": "stream",
     "text": [
      " * \n",
      " *  * \n",
      " *  *  * \n",
      " *  *  *  * \n"
     ]
    }
   ],
   "source": [
    "''' *\n",
    "    * *\n",
    "    * * *\n",
    "    * * * *\n",
    "'''\n",
    "n = 4\n",
    "for i in range(1, n+1):\n",
    "    for j in range(i):\n",
    "        print(\" * \",end = \"\")\n",
    "    print()"
   ]
  },
  {
   "cell_type": "code",
   "execution_count": 31,
   "id": "60e219ae-53f9-48b7-9531-2b95c4a823e5",
   "metadata": {},
   "outputs": [
    {
     "name": "stdout",
     "output_type": "stream",
     "text": [
      " * \n",
      " *  * \n",
      " *  *  * \n",
      " *  *  *  * \n"
     ]
    }
   ],
   "source": [
    "n = 4\n",
    "for i in range(1, n+1):\n",
    "    print(\" * \" * i)"
   ]
  }
 ],
 "metadata": {
  "kernelspec": {
   "display_name": "Python 3 (ipykernel)",
   "language": "python",
   "name": "python3"
  },
  "language_info": {
   "codemirror_mode": {
    "name": "ipython",
    "version": 3
   },
   "file_extension": ".py",
   "mimetype": "text/x-python",
   "name": "python",
   "nbconvert_exporter": "python",
   "pygments_lexer": "ipython3",
   "version": "3.11.4"
  }
 },
 "nbformat": 4,
 "nbformat_minor": 5
}
