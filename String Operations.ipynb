{
 "cells": [
  {
   "cell_type": "markdown",
   "id": "418d131e-5c7d-4449-a9d3-eaaf0aefe91e",
   "metadata": {},
   "source": [
    "# String Operations"
   ]
  },
  {
   "cell_type": "markdown",
   "id": "73b023a3-afea-4abc-a9d6-ce710368c034",
   "metadata": {},
   "source": [
    "## Concatenation"
   ]
  },
  {
   "cell_type": "code",
   "execution_count": 1,
   "id": "0c93de6e-0048-4470-90bf-bdb961364feb",
   "metadata": {},
   "outputs": [
    {
     "name": "stdout",
     "output_type": "stream",
     "text": [
      "HelloHanna\n"
     ]
    }
   ],
   "source": [
    "a = \"Hello\"\n",
    "b = \"Hanna\"\n",
    "print(a + b)"
   ]
  },
  {
   "cell_type": "code",
   "execution_count": 2,
   "id": "9c48b38d-e8af-4911-ab72-c3e536b7d0f3",
   "metadata": {},
   "outputs": [
    {
     "name": "stdout",
     "output_type": "stream",
     "text": [
      "Hello Hanna\n"
     ]
    }
   ],
   "source": [
    "a = \"Hello\"\n",
    "b = \"Hanna\"\n",
    "print(a + \" \" + b)"
   ]
  },
  {
   "cell_type": "code",
   "execution_count": 5,
   "id": "0117e3a1-cc83-4a12-8fa0-40acdd3ef9c0",
   "metadata": {},
   "outputs": [
    {
     "name": "stdout",
     "output_type": "stream",
     "text": [
      "Number10\n"
     ]
    }
   ],
   "source": [
    "a = 10\n",
    "print(\"Number\"+ str(a))"
   ]
  },
  {
   "cell_type": "markdown",
   "id": "2ff3930a-eaf1-4d78-8e6f-951a73fd4049",
   "metadata": {},
   "source": [
    "## Repetition"
   ]
  },
  {
   "cell_type": "code",
   "execution_count": 6,
   "id": "bb99fc8c-9178-4dda-9f64-bedb2e91456a",
   "metadata": {},
   "outputs": [
    {
     "name": "stdout",
     "output_type": "stream",
     "text": [
      "HannaHannaHanna\n"
     ]
    }
   ],
   "source": [
    "a = \"Hanna\"\n",
    "print(a * 3)"
   ]
  },
  {
   "cell_type": "code",
   "execution_count": 9,
   "id": "38a2e31f-349d-4878-9b58-76b5b1afac1e",
   "metadata": {},
   "outputs": [
    {
     "name": "stdout",
     "output_type": "stream",
     "text": [
      "Hanna Hanna Hanna \n"
     ]
    }
   ],
   "source": [
    "a = \"Hanna\"\n",
    "print((a + \" \") * 3)"
   ]
  },
  {
   "cell_type": "code",
   "execution_count": 12,
   "id": "7af32ebc-068c-4020-beb1-871059fa7b97",
   "metadata": {},
   "outputs": [
    {
     "name": "stdout",
     "output_type": "stream",
     "text": [
      "Hanna Hanna Hanna Hanna Hanna \n",
      "Sivaram Sivaram Sivaram Sivaram Sivaram Sivaram Sivaram \n"
     ]
    }
   ],
   "source": [
    "a = \"Hanna\"\n",
    "b = \"Sivaram\"\n",
    "print((a + \" \") * len(a))\n",
    "print((b + \" \") * len(b))"
   ]
  },
  {
   "cell_type": "markdown",
   "id": "7bd990c0-6ded-4759-a612-2565a7ab2b46",
   "metadata": {},
   "source": [
    "## Indexing"
   ]
  },
  {
   "cell_type": "code",
   "execution_count": 13,
   "id": "a3651dfd-894e-4ef5-ae58-413737e912b0",
   "metadata": {},
   "outputs": [
    {
     "name": "stdout",
     "output_type": "stream",
     "text": [
      "a\n"
     ]
    }
   ],
   "source": [
    "a = \"Hanna\"\n",
    "print(a[1])"
   ]
  },
  {
   "cell_type": "code",
   "execution_count": 16,
   "id": "fc8c6417-4cbc-4950-9bc6-7a3f513f763d",
   "metadata": {},
   "outputs": [
    {
     "name": "stdout",
     "output_type": "stream",
     "text": [
      "ello\n"
     ]
    }
   ],
   "source": [
    "a = \"Hello\"\n",
    "print(a[1:])"
   ]
  },
  {
   "cell_type": "code",
   "execution_count": 18,
   "id": "6ab87184-7f15-4a2a-8239-6175a26d3d7f",
   "metadata": {},
   "outputs": [
    {
     "name": "stdout",
     "output_type": "stream",
     "text": [
      "Hlo\n"
     ]
    }
   ],
   "source": [
    "a = \"Hello\"\n",
    "print(a[::2])"
   ]
  },
  {
   "cell_type": "code",
   "execution_count": 19,
   "id": "fe44c834-5aa7-4905-bb54-f29541ee4c54",
   "metadata": {},
   "outputs": [
    {
     "name": "stdout",
     "output_type": "stream",
     "text": [
      "olleH\n"
     ]
    }
   ],
   "source": [
    "a = \"Hello\"\n",
    "print(a[::-1])"
   ]
  },
  {
   "cell_type": "markdown",
   "id": "04e63c9e-77cb-4d6d-9256-f0357f4dc8a7",
   "metadata": {},
   "source": [
    "## Uppercase and Lowercase"
   ]
  },
  {
   "cell_type": "code",
   "execution_count": 20,
   "id": "a790fce4-6c82-4d50-aef6-41bbe976d3a9",
   "metadata": {},
   "outputs": [
    {
     "name": "stdout",
     "output_type": "stream",
     "text": [
      "HANNA\n"
     ]
    }
   ],
   "source": [
    "a = \"hanna\"\n",
    "print(a.upper())"
   ]
  },
  {
   "cell_type": "code",
   "execution_count": 21,
   "id": "6e21c255-22b3-49b2-9233-e540fe37f6c5",
   "metadata": {},
   "outputs": [
    {
     "name": "stdout",
     "output_type": "stream",
     "text": [
      "hanna\n"
     ]
    }
   ],
   "source": [
    "a = \"HannA\"\n",
    "print(a.lower())"
   ]
  },
  {
   "cell_type": "markdown",
   "id": "b430daa8-ca69-4e91-a26c-68b018d1e900",
   "metadata": {},
   "source": [
    "## Title"
   ]
  },
  {
   "cell_type": "code",
   "execution_count": 22,
   "id": "d4ab914a-aade-4cd4-8d5b-b4bfdbb220f8",
   "metadata": {},
   "outputs": [
    {
     "name": "stdout",
     "output_type": "stream",
     "text": [
      "Hello Hanna\n"
     ]
    }
   ],
   "source": [
    "a = \"hello hanna\"\n",
    "print(a.title())"
   ]
  },
  {
   "cell_type": "markdown",
   "id": "37e8d62d-5150-4a9b-9047-732f7ee37668",
   "metadata": {},
   "source": [
    "## Strip"
   ]
  },
  {
   "cell_type": "code",
   "execution_count": 23,
   "id": "95a32c07-8456-4b20-a4c6-90a74928750d",
   "metadata": {},
   "outputs": [
    {
     "name": "stdout",
     "output_type": "stream",
     "text": [
      "Hello\n"
     ]
    }
   ],
   "source": [
    "a = \" Hello \"\n",
    "print(a.strip())"
   ]
  },
  {
   "cell_type": "markdown",
   "id": "42cf2b93-4b87-43f9-96c4-0a801fd6c352",
   "metadata": {},
   "source": [
    "## Find"
   ]
  },
  {
   "cell_type": "code",
   "execution_count": 29,
   "id": "e8845df8-8673-4819-b4f6-a29b5924ff6b",
   "metadata": {},
   "outputs": [
    {
     "name": "stdout",
     "output_type": "stream",
     "text": [
      "1\n"
     ]
    }
   ],
   "source": [
    "a = \"Hello\"\n",
    "print(a.find(\"e\"))"
   ]
  },
  {
   "cell_type": "markdown",
   "id": "21ccab6d-b39b-4172-ab6b-f4398939ec1b",
   "metadata": {},
   "source": [
    "## Replace"
   ]
  },
  {
   "cell_type": "code",
   "execution_count": 32,
   "id": "d2f88266-1e34-4411-a051-f6e70b5c8323",
   "metadata": {},
   "outputs": [
    {
     "name": "stdout",
     "output_type": "stream",
     "text": [
      "Hello, Sivaram\n"
     ]
    }
   ],
   "source": [
    "a = \"Hello, Hanna\"\n",
    "print(a.replace(\"Hanna\", \"Sivaram\"))"
   ]
  },
  {
   "cell_type": "code",
   "execution_count": 36,
   "id": "5dee4df0-be3c-492c-9391-99c32553ced9",
   "metadata": {},
   "outputs": [
    {
     "name": "stdout",
     "output_type": "stream",
     "text": [
      "Hello, Sivaram\n"
     ]
    }
   ],
   "source": [
    "a = \"Hello, Hanna\"\n",
    "b = \"hanna\"\n",
    "c = a.lower()\n",
    "d = c.replace(b,\"Sivaram\")\n",
    "print(d.title())"
   ]
  },
  {
   "cell_type": "code",
   "execution_count": 37,
   "id": "05c77f2f-3ebe-400f-85a8-6f091b9944fd",
   "metadata": {},
   "outputs": [
    {
     "name": "stdout",
     "output_type": "stream",
     "text": [
      "Hello, Sivaram\n"
     ]
    }
   ],
   "source": [
    "a = \"Hello, Hanna\"\n",
    "b = \"hanna\"\n",
    "c = a.lower()\n",
    "print(str(c.replace(b,\"Sivaram\").title()))"
   ]
  },
  {
   "cell_type": "markdown",
   "id": "9f8629a4-93cc-4ecd-b80c-bb54f8717b5b",
   "metadata": {},
   "source": [
    "## Split"
   ]
  },
  {
   "cell_type": "code",
   "execution_count": 38,
   "id": "751efc21-b838-47c4-bb75-c89ceda5f165",
   "metadata": {},
   "outputs": [
    {
     "name": "stdout",
     "output_type": "stream",
     "text": [
      "['Hello,', 'Hanna']\n"
     ]
    }
   ],
   "source": [
    "a = \"Hello, Hanna\"\n",
    "b = a.split(\" \")\n",
    "print(b)"
   ]
  },
  {
   "cell_type": "code",
   "execution_count": 39,
   "id": "aea0be1a-004c-4564-a374-9415ee8de616",
   "metadata": {},
   "outputs": [
    {
     "name": "stdout",
     "output_type": "stream",
     "text": [
      "['Hello', 'Hanna']\n"
     ]
    }
   ],
   "source": [
    "a = \"Hello, Hanna\"\n",
    "b = a.split(\" \")\n",
    "b[0] = b[0].replace(',', \"\")\n",
    "print(b)"
   ]
  },
  {
   "cell_type": "code",
   "execution_count": 47,
   "id": "e9aed793-995e-43d1-b1ce-137de7a990af",
   "metadata": {},
   "outputs": [
    {
     "name": "stdout",
     "output_type": "stream",
     "text": [
      "['Apple', 'Orange', 'Fruits']\n"
     ]
    }
   ],
   "source": [
    "a = \"Apple and Orange are Fruits\"\n",
    "b = a.split(\" \")\n",
    "b.remove('and')\n",
    "b.remove('are')\n",
    "print(b)"
   ]
  },
  {
   "cell_type": "markdown",
   "id": "d8e6c365-d25f-4f74-8ba2-9c28a3796535",
   "metadata": {},
   "source": [
    "## Formatting"
   ]
  },
  {
   "cell_type": "code",
   "execution_count": 50,
   "id": "a88d7139-22f3-4179-a573-2cf67beb2f1f",
   "metadata": {},
   "outputs": [
    {
     "name": "stdout",
     "output_type": "stream",
     "text": [
      "Hello, Hanna\n"
     ]
    }
   ],
   "source": [
    "name = \"Hanna\"\n",
    "print(f\"Hello, {name}\")"
   ]
  },
  {
   "cell_type": "code",
   "execution_count": 52,
   "id": "c51f1423-23ef-4f93-9459-a1217409c500",
   "metadata": {},
   "outputs": [
    {
     "name": "stdout",
     "output_type": "stream",
     "text": [
      "Hello, Hanna Maria\n"
     ]
    }
   ],
   "source": [
    "name = \"Hanna\"\n",
    "print(f\"Hello, {name} Maria\")"
   ]
  },
  {
   "cell_type": "code",
   "execution_count": 53,
   "id": "90cb92e0-6a53-406a-879b-d84a50ba3a84",
   "metadata": {},
   "outputs": [
    {
     "name": "stdout",
     "output_type": "stream",
     "text": [
      "Sum = 30, Difference = -10, Product = 200, Quotient = 0.5\n"
     ]
    }
   ],
   "source": [
    "a = 10\n",
    "b = 20\n",
    "print(f\"Sum = {a+b}, Difference = {a-b}, Product = {a*b}, Quotient = {a/b}\")"
   ]
  },
  {
   "cell_type": "code",
   "execution_count": 58,
   "id": "9bacd557-419e-430b-b9b6-8f8557ae4e39",
   "metadata": {},
   "outputs": [
    {
     "name": "stdout",
     "output_type": "stream",
     "text": [
      "Roses are Red.\n",
      "Violets are beautiful.\n",
      "He is singing.\n"
     ]
    }
   ],
   "source": [
    "Color = \"Red\"\n",
    "Adjective = \"beautiful\"\n",
    "Noun = \"He\"\n",
    "Activity = \"singing\"\n",
    "MadLib = f\"Roses are {Color}.\\nViolets are {Adjective}.\\n{Noun} is {Activity}.\"\n",
    "print(MadLib)"
   ]
  }
 ],
 "metadata": {
  "kernelspec": {
   "display_name": "Python 3 (ipykernel)",
   "language": "python",
   "name": "python3"
  },
  "language_info": {
   "codemirror_mode": {
    "name": "ipython",
    "version": 3
   },
   "file_extension": ".py",
   "mimetype": "text/x-python",
   "name": "python",
   "nbconvert_exporter": "python",
   "pygments_lexer": "ipython3",
   "version": "3.11.4"
  }
 },
 "nbformat": 4,
 "nbformat_minor": 5
}
